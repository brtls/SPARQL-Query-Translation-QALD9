{
 "cells": [
  {
   "cell_type": "code",
   "execution_count": 20,
   "metadata": {},
   "outputs": [
    {
     "name": "stdout",
     "output_type": "stream",
     "text": [
      "Title: Optimizing Slogan Classification in Ubiquitous Learning Environment: A Hierarchical Multilabel Approach with Fuzzy Neural Networks, DOI: https://doi.org/10.1016/j.knosys.2025.113148\n",
      "Title: Performance Analysis of Analog Butterworth Low Pass Filter as Compared to Chebyshev Type-I Filter, Chebyshev Type-II Filter and Elliptical Filter, DOI: https://doi.org/10.4236/cs.2014.59023\n",
      "Title: Multi-scale Xception based depthwise separable convolution for single image super-resolution, DOI: https://doi.org/10.1371/journal.pone.0249278\n",
      "Title: SENext: Squeeze-and-ExcitationNext for Single Image Super-Resolution, DOI: https://doi.org/10.1109/access.2023.3274679\n",
      "Title: Optimizing Slogan Classification in Ubiquitous Learning Environment: A Hierarchical Multilabel Approach with Fuzzy Neural Networks, DOI: https://doi.org/10.2139/ssrn.4806464\n",
      "Title: Multi-Scale Inception Based Super-Resolution Using Deep Learning Approach, DOI: https://doi.org/10.3390/electronics8080892\n",
      "Title: Multi-Path Deep CNN with Residual Inception Network for Single Image Super-Resolution, DOI: https://doi.org/10.3390/electronics10161979\n",
      "Title: Nitrogen‐Enriched Mesoporous Carbon Spheres as Efficient Anode Material for Long‐Cycle Li/Na‐Ion Batteries, DOI: https://doi.org/10.1002/pssa.202100714\n",
      "Title: Deep Learning Based Autonomous Real-Time Traffic Sign Recognition System for Advanced Driver Assistance, DOI: https://doi.org/10.5815/ijigsp.2022.06.06\n",
      "Title: Electrochemical Performance of NiCo<sub>2</sub>O<sub>4</sub> Spinel Cathodes for Intermediate Temperature Solid Oxide Fuel Cells, DOI: https://doi.org/10.1002/pssa.202100542\n",
      "Title: IRMIRS: Inception-ResNet-Based Network for MRI Image Super-Resolution, DOI: https://doi.org/10.32604/cmes.2023.021438\n",
      "Title: An Introduction to Deep Convolutional Neural Networks With Keras, DOI: https://doi.org/10.4018/978-1-7998-3095-5.ch011\n",
      "Title: Deep transfer learning CNN based approach for COVID-19 detection, DOI: https://doi.org/10.21833/ijaas.2022.04.006\n",
      "Title: Deep Convolutional Neural Network-Based Single Image Superresolution, DOI: https://doi.org/10.1201/9781003425700-17\n",
      "Title: CANS: Combined Attention Network for Single Image Super-Resolution, DOI: https://doi.org/10.1109/access.2024.3487918\n",
      "Title: Multi-scale Deep Convolutional Neural Networks for Microscopic Image Super-resolution, DOI: https://doi.org/10.2991/978-94-6463-602-4_6\n",
      "Title: Generation of Electric Power from Domestic Cooking System, DOI: https://doi.org/10.4236/ojee.2015.44008\n",
      "Title: The Importance Of Adopting Sustainable Practices & Community Participation In Power Projects, DOI: https://doi.org/10.21015/vtess.v8i1.349\n",
      "Title: Role of Deep Learning in Medical Image Super-Resolution, DOI: https://doi.org/10.4018/978-1-6684-3791-9.ch003\n",
      "Title: MCSNet: Multi-Channel Sharing Network for Single Image Super-Resolution, DOI: https://doi.org/10.23919/apsipaasc55919.2022.9979943\n",
      "Title: Senext: Squeeze-and-Excitationnext for Single Image Super-Resolution, DOI: https://doi.org/10.2139/ssrn.4257662\n",
      "Title: Auto segmentation, detection, and countering of Lung nodule using convolutional neural networks, DOI: None\n"
     ]
    }
   ],
   "source": [
    "from diophila import OpenAlex\n",
    "\n",
    "# Initialize the OpenAlex client with your email (recommended for polite pool access)\n",
    "openalex = OpenAlex(\"your_email@example.com\")\n",
    "\n",
    "# Define the filter to search for works by the author's ORCID\n",
    "filters = {\"author.orcid\": \"0000-0002-3860-2213\"}\n",
    "\n",
    "# Retrieve the list of works\n",
    "pages_of_works = openalex.get_list_of_works(filters=filters)\n",
    "\n",
    "# Iterate through the pages and print the title and DOI of each work\n",
    "for page in pages_of_works:\n",
    "    for work in page['results']:\n",
    "        print(f\"Title: {work['display_name']}, DOI: {work.get('doi', 'N/A')}\")\n"
   ]
  },
  {
   "cell_type": "code",
   "execution_count": 19,
   "metadata": {},
   "outputs": [
    {
     "name": "stdout",
     "output_type": "stream",
     "text": [
      "Title: Optimizing Slogan Classification in Ubiquitous Learning Environment: A Hierarchical Multilabel Approach with Fuzzy Neural Networks, DOI: https://doi.org/10.1016/j.knosys.2025.113148\n",
      "Title: Performance Analysis of Analog Butterworth Low Pass Filter as Compared to Chebyshev Type-I Filter, Chebyshev Type-II Filter and Elliptical Filter, DOI: https://doi.org/10.4236/cs.2014.59023\n",
      "Title: Multi-scale Xception based depthwise separable convolution for single image super-resolution, DOI: https://doi.org/10.1371/journal.pone.0249278\n",
      "Title: SENext: Squeeze-and-ExcitationNext for Single Image Super-Resolution, DOI: https://doi.org/10.1109/access.2023.3274679\n",
      "Title: Optimizing Slogan Classification in Ubiquitous Learning Environment: A Hierarchical Multilabel Approach with Fuzzy Neural Networks, DOI: https://doi.org/10.2139/ssrn.4806464\n",
      "Title: Multi-Scale Inception Based Super-Resolution Using Deep Learning Approach, DOI: https://doi.org/10.3390/electronics8080892\n",
      "Title: Multi-Path Deep CNN with Residual Inception Network for Single Image Super-Resolution, DOI: https://doi.org/10.3390/electronics10161979\n",
      "Title: Nitrogen‐Enriched Mesoporous Carbon Spheres as Efficient Anode Material for Long‐Cycle Li/Na‐Ion Batteries, DOI: https://doi.org/10.1002/pssa.202100714\n",
      "Title: Deep Learning Based Autonomous Real-Time Traffic Sign Recognition System for Advanced Driver Assistance, DOI: https://doi.org/10.5815/ijigsp.2022.06.06\n",
      "Title: Electrochemical Performance of NiCo<sub>2</sub>O<sub>4</sub> Spinel Cathodes for Intermediate Temperature Solid Oxide Fuel Cells, DOI: https://doi.org/10.1002/pssa.202100542\n",
      "Title: IRMIRS: Inception-ResNet-Based Network for MRI Image Super-Resolution, DOI: https://doi.org/10.32604/cmes.2023.021438\n",
      "Title: An Introduction to Deep Convolutional Neural Networks With Keras, DOI: https://doi.org/10.4018/978-1-7998-3095-5.ch011\n",
      "Title: Deep transfer learning CNN based approach for COVID-19 detection, DOI: https://doi.org/10.21833/ijaas.2022.04.006\n",
      "Title: Deep Convolutional Neural Network-Based Single Image Superresolution, DOI: https://doi.org/10.1201/9781003425700-17\n",
      "Title: CANS: Combined Attention Network for Single Image Super-Resolution, DOI: https://doi.org/10.1109/access.2024.3487918\n",
      "Title: Multi-scale Deep Convolutional Neural Networks for Microscopic Image Super-resolution, DOI: https://doi.org/10.2991/978-94-6463-602-4_6\n",
      "Title: Generation of Electric Power from Domestic Cooking System, DOI: https://doi.org/10.4236/ojee.2015.44008\n",
      "Title: The Importance Of Adopting Sustainable Practices & Community Participation In Power Projects, DOI: https://doi.org/10.21015/vtess.v8i1.349\n",
      "Title: Role of Deep Learning in Medical Image Super-Resolution, DOI: https://doi.org/10.4018/978-1-6684-3791-9.ch003\n",
      "Title: MCSNet: Multi-Channel Sharing Network for Single Image Super-Resolution, DOI: https://doi.org/10.23919/apsipaasc55919.2022.9979943\n",
      "Title: Senext: Squeeze-and-Excitationnext for Single Image Super-Resolution, DOI: https://doi.org/10.2139/ssrn.4257662\n",
      "Title: Auto segmentation, detection, and countering of Lung nodule using convolutional neural networks, DOI: None\n"
     ]
    }
   ],
   "source": [
    "import requests\n",
    "\n",
    "# OpenAlex API URL\n",
    "url = \"https://api.openalex.org/works?filter=authorships.author.orcid:0000-0002-3860-2213\"\n",
    "\n",
    "# Fetch data\n",
    "response = requests.get(url)\n",
    "data = response.json()\n",
    "\n",
    "# Print results\n",
    "for work in data.get(\"results\", []):\n",
    "    print(f\"Title: {work.get('title', 'N/A')}, DOI: {work.get('doi', 'N/A')}\")"
   ]
  },
  {
   "cell_type": "code",
   "execution_count": null,
   "metadata": {},
   "outputs": [
    {
     "name": "stdout",
     "output_type": "stream",
     "text": [
      "Total Works: 0\n"
     ]
    }
   ],
   "source": [
    "# OpenAlex API URL\n",
    "url = \"https://api.openalex.org/works?filter=authorships.author.orcid:0000-0002-3860-2213&per-page=0\"\n",
    "\n",
    "# Fetch data\n",
    "response = requests.get(url)\n",
    "data = response.json()"
   ]
  },
  {
   "cell_type": "code",
   "execution_count": 24,
   "metadata": {},
   "outputs": [
    {
     "name": "stdout",
     "output_type": "stream",
     "text": [
      "Total number of papers by Wazir Muhammad: 22\n"
     ]
    }
   ],
   "source": [
    "url = \"https://api.openalex.org/works?filter=authorships.author.orcid:0000-0002-3860-2213\"\n",
    "\n",
    "# Fetch data\n",
    "response = requests.get(url)\n",
    "data = response.json()\n",
    "\n",
    "# Get the total count\n",
    "total_papers = data[\"meta\"][\"count\"]\n",
    "print(f\"Total number of papers by Wazir Muhammad: {total_papers}\")"
   ]
  },
  {
   "cell_type": "code",
   "execution_count": 25,
   "metadata": {},
   "outputs": [
    {
     "name": "stdout",
     "output_type": "stream",
     "text": [
      "Title: A survey of mobile phone sensing, DOI: https://doi.org/10.1109/mcom.2010.5560598\n",
      "Title: Sensing meets mobile social networks, DOI: https://doi.org/10.1145/1460412.1460445\n",
      "Title: SoundSense, DOI: https://doi.org/10.1145/1555816.1555834\n",
      "Title: The Rise of People-Centric Sensing, DOI: https://doi.org/10.1109/mic.2008.90\n",
      "Title: The Jigsaw continuous sensing engine for mobile phone applications, DOI: https://doi.org/10.1145/1869983.1869992\n",
      "Title: People-centric urban sensing, DOI: https://doi.org/10.1145/1234161.1234179\n",
      "Title: Using Smartphones to Collect Behavioral Data in Psychological Science, DOI: https://doi.org/10.1177/1745691616650285\n",
      "Title: MoodScope, DOI: https://doi.org/10.1145/2462456.2464449\n",
      "Title: BeWell: A Smartphone Application to Monitor, Model and Promote Wellbeing, DOI: https://doi.org/10.4108/icst.pervasivehealth.2011.246161\n",
      "Title: Flower: A Friendly Federated Learning Research Framework, DOI: https://doi.org/10.48550/arxiv.2007.14390\n",
      "Title: The BikeNet mobile sensing system for cyclist experience mapping, DOI: https://doi.org/10.1145/1322263.1322273\n",
      "Title: BikeNet, DOI: https://doi.org/10.1145/1653760.1653766\n",
      "Title: DeepX: A Software Accelerator for Low-Power Deep Learning Inference on Mobile Devices, DOI: https://doi.org/10.1109/ipsn.2016.7460664\n",
      "Title: DeepEar, DOI: https://doi.org/10.1145/2750858.2804262\n",
      "Title: DeepX: a software accelerator for low-power deep learning inference on mobile devices, DOI: https://doi.org/10.5555/2959355.2959378\n",
      "Title: Automatically characterizing places with opportunistic crowdsensing using smartphones, DOI: https://doi.org/10.1145/2370216.2370288\n",
      "Title: Unobtrusive Sleep Monitoring using Smartphones, DOI: https://doi.org/10.4108/icst.pervasivehealth.2013.252148\n",
      "Title: Can Deep Learning Revolutionize Mobile Sensing?, DOI: https://doi.org/10.1145/2699343.2699349\n",
      "Title: Multimodal Deep Learning for Activity and Context Recognition, DOI: https://doi.org/10.1145/3161174\n",
      "Title: Sparsification and Separation of Deep Learning Layers for Constrained Resource Inference on Wearables, DOI: https://doi.org/10.1145/2994551.2994564\n",
      "Title: An Early Resource Characterization of Deep Learning on Wearables, Smartphones and Internet-of-Things Devices, DOI: https://doi.org/10.1145/2820975.2820980\n",
      "Title: Squeezing Deep Learning into Mobile and Embedded Devices, DOI: https://doi.org/10.1109/mprv.2017.2940968\n",
      "Title: From smart to deep: Robust activity recognition on smartwatches using deep learning, DOI: https://doi.org/10.1109/percomw.2016.7457169\n",
      "Title: A Hybrid Deep Learning Architecture for Privacy-Preserving Mobile Analytics, DOI: https://doi.org/10.1109/jiot.2020.2967734\n",
      "Title: Federated benchmarking of medical artificial intelligence with MedPerf, DOI: https://doi.org/10.1038/s42256-023-00652-2\n"
     ]
    }
   ],
   "source": [
    "# OpenAlex API URL using ORCID\n",
    "url = \"https://api.openalex.org/works?filter=authorships.author.orcid:0000-0002-2728-8273\"\n",
    "\n",
    "# Fetch data\n",
    "response = requests.get(url)\n",
    "data = response.json()\n",
    "\n",
    "# Print results\n",
    "for work in data.get(\"results\", []):\n",
    "    print(f\"Title: {work.get('title', 'N/A')}, DOI: {work.get('doi', 'N/A')}\")\n"
   ]
  },
  {
   "cell_type": "code",
   "execution_count": 28,
   "metadata": {},
   "outputs": [
    {
     "name": "stdout",
     "output_type": "stream",
     "text": [
      "Paper not found in OpenAlex.\n"
     ]
    }
   ],
   "source": [
    "import requests\n",
    "\n",
    "# Define OpenAlex API query\n",
    "url = \"https://api.openalex.org/works?filter=title.search:\\\"A New Two-objective Single Machine Scheduling Problem Considers a Past-sequence-dependent Setup Time and Learning Effect\\\",authorships.author.orcid:0000-0002-9932-0594\"\n",
    "\n",
    "# Fetch data from OpenAlex\n",
    "response = requests.get(url)\n",
    "data = response.json()\n",
    "\n",
    "# Check if any results are found\n",
    "if data[\"results\"]:\n",
    "    work = data[\"results\"][0]\n",
    "    venue = work.get(\"primary_location\", {}).get(\"source\", {}).get(\"display_name\", \"Venue not found\")\n",
    "    print(f\"Publication Venue: {venue}\")\n",
    "else:\n",
    "    print(\"Paper not found in OpenAlex.\")\n"
   ]
  },
  {
   "cell_type": "code",
   "execution_count": 29,
   "metadata": {},
   "outputs": [
    {
     "name": "stdout",
     "output_type": "stream",
     "text": [
      "Yes, the paper was published in 2010.\n"
     ]
    }
   ],
   "source": [
    "import requests\n",
    "\n",
    "# OpenAlex API URL (Search by Title)\n",
    "url = \"https://api.openalex.org/works?filter=title.search:\\\"Performance evaluation of a community structure finding algorithm using modularity and C-rand measures\\\"\"\n",
    "\n",
    "# Fetch data\n",
    "response = requests.get(url)\n",
    "data = response.json()\n",
    "\n",
    "# Check if any results are found\n",
    "if data[\"results\"]:\n",
    "    work = data[\"results\"][0]  # Assume the first result is correct\n",
    "    pub_year = work.get(\"publication_year\", \"Unknown\")\n",
    "    \n",
    "    if pub_year == 2010:\n",
    "        print(\"Yes, the paper was published in 2010.\")\n",
    "    else:\n",
    "        print(f\"No, the paper was published in {pub_year}.\")\n",
    "else:\n",
    "    print(\"Paper not found in OpenAlex.\")\n"
   ]
  },
  {
   "cell_type": "code",
   "execution_count": 31,
   "metadata": {},
   "outputs": [
    {
     "name": "stdout",
     "output_type": "stream",
     "text": [
      "Yes, the paper was published in 2010.\n"
     ]
    }
   ],
   "source": [
    "# Define OpenAlex API URL (checks if paper exists in 2010)\n",
    "url = \"https://api.openalex.org/works?filter=title.search:\\\"Performance evaluation of a community structure finding algorithm using modularity and C-rand measures\\\",publication_year:2010&per-page=1\"\n",
    "\n",
    "# Fetch data\n",
    "response = requests.get(url)\n",
    "data = response.json()\n",
    "\n",
    "# Boolean check: Was the paper published in 2010?\n",
    "if data[\"meta\"][\"count\"] > 0:\n",
    "    print(\"Yes, the paper was published in 2010.\")\n",
    "else:\n",
    "    print(\"No, the paper was not published in 2010.\")\n"
   ]
  }
 ],
 "metadata": {
  "kernelspec": {
   "display_name": "Python 3",
   "language": "python",
   "name": "python3"
  },
  "language_info": {
   "codemirror_mode": {
    "name": "ipython",
    "version": 3
   },
   "file_extension": ".py",
   "mimetype": "text/x-python",
   "name": "python",
   "nbconvert_exporter": "python",
   "pygments_lexer": "ipython3",
   "version": "3.13.0"
  }
 },
 "nbformat": 4,
 "nbformat_minor": 2
}
